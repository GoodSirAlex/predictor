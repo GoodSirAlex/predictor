{
 "cells": [
  {
   "cell_type": "code",
   "execution_count": 1,
   "metadata": {},
   "outputs": [],
   "source": [
    "import numpy as np\n",
    "import pandas as pd\n",
    "import matplotlib.pyplot as plt\n",
    "import yfinance as yf\n",
    "import itertools\n",
    "import ccxt\n",
    "import time\n",
    "import datetime\n",
    "import coinmetrics\n",
    "from finta import TA"
   ]
  },
  {
   "cell_type": "markdown",
   "metadata": {},
   "source": [
    "### Collect Data"
   ]
  },
  {
   "cell_type": "code",
   "execution_count": 2,
   "metadata": {},
   "outputs": [],
   "source": [
    "def fetch_daily_data(symbol):\n",
    "    binance = ccxt.binance({\n",
    "    'apiKey': 'y',\n",
    "    'secret': 'Y', })\n",
    "    now = binance.milliseconds()\n",
    "    since = now - 1000 * 60 * 60 * 24 * (4 * 365)\n",
    "    time_price_dict = {}\n",
    "    while since < now:\n",
    "        ohlcvs = binance.fetch_ohlcv(symbol, '1d', since, 30)\n",
    "        for ohlcv in ohlcvs:\n",
    "            ohlcv_dict = {'Open': ohlcv[1], 'High': ohlcv[2], 'Low': ohlcv[3], 'Close': ohlcv[4]}\n",
    "            time_price_dict[datetime.datetime.fromtimestamp(float(ohlcv[0]/1000))] = ohlcv_dict\n",
    "        since += 1000 * 60 * 60 * 24 * 30\n",
    "        # don't hit the rateLimit or you will be banned\n",
    "        time.sleep(binance.rateLimit / 1000)\n",
    "    return time_price_dict\n",
    "\n",
    "def binance_add_date_column(binance_df):\n",
    "    binance_df['datetime'] = pd.to_datetime(binance_df['Timestamp'])\n",
    "    binance_df['Date'] = binance_df['datetime'].dt.date\n",
    "    binance_df['Date'] = binance_df['Date'].astype('str')\n",
    "    binance_df = binance_df.drop(['Timestamp', 'datetime'], 1)\n",
    "    return binance_df\n",
    "    \n",
    "\n",
    "def create_dataframe(time_price_dict_btc):\n",
    "    open_prices = []\n",
    "    close_prices = []\n",
    "    high_prices = []\n",
    "    low_prices = []\n",
    "    timestamps = []\n",
    "    for key in sorted(time_price_dict_btc.keys()):\n",
    "        timestamps.append(key)\n",
    "        open_prices.append(time_price_dict_btc[key]['Open'])\n",
    "        high_prices.append(time_price_dict_btc[key]['High'])\n",
    "        low_prices.append(time_price_dict_btc[key]['Low'])\n",
    "        close_prices.append(time_price_dict_btc[key]['Close'])\n",
    "    d = {\"Timestamp\": timestamps, \"Open\": open_prices, \"High\": high_prices, \"Low\": low_prices, \"Close\": close_prices}\n",
    "    df = pd.DataFrame(data=d, columns=[\"Timestamp\", \"Open\", \"High\", \"Low\", \"Close\"])\n",
    "    return df\n",
    "    \n",
    "def binance_to_dataframe(symbol, period):\n",
    "    if (period == '4y'):\n",
    "        binance_ohlcvs = fetch_daily_data(symbol)\n",
    "    elif (period == '1d'):\n",
    "        binance_ohlcvs = fetch_one_day(symbol)\n",
    "    binance_df = create_dataframe(binance_ohlcvs)\n",
    "    binance_df = binance_add_date_column(binance_df)\n",
    "    return binance_df\n"
   ]
  },
  {
   "cell_type": "code",
   "execution_count": 3,
   "metadata": {},
   "outputs": [],
   "source": [
    "def coinmetrics_to_dataframe(begin_timestamp, end_timestamp):\n",
    "    cm = coinmetrics.Community()\n",
    "    metric = \"AdrActCnt,BlkCnt,BlkSizeByte,TxTfrCnt,FeeMeanUSD,HashRate,ROI30d\"\n",
    "    #asset_data = cm.get_asset_data_for_time_range('btc', metric, begin_timestamp, end_timestamp)\n",
    "    asset_data = cm.get_asset_data_for_time_range('btc', 'all', begin_timestamp, end_timestamp)\n",
    "    coin_features = coinmetrics.cm_to_pandas(asset_data)\n",
    "    coin_features['Date'] = coin_features.index\n",
    "    coin_features['Date'] = pd.to_datetime(coin_features['Date'])\n",
    "    coin_features['Date'] = coin_features['Date'].dt.date\n",
    "    coin_features['Date'] = coin_features['Date'].astype('str')\n",
    "    coin_features.reset_index(drop=True, inplace=True)\n",
    "    return coin_features"
   ]
  },
  {
   "cell_type": "code",
   "execution_count": 4,
   "metadata": {},
   "outputs": [],
   "source": [
    "def get_target(prices, offset, price_change):\n",
    "    target = []\n",
    "    for i in range(len(prices) - offset):\n",
    "        positive_return = False\n",
    "        for j in range(i, i + offset):\n",
    "            if prices[j] / prices[i] > 1 + price_change:\n",
    "                positive_return = True\n",
    "        if positive_return == True:\n",
    "            target.append(1)\n",
    "        else:\n",
    "            target.append(0)\n",
    "    for i in range(offset):\n",
    "        target.append(0)\n",
    "    return np.array(target)"
   ]
  },
  {
   "cell_type": "code",
   "execution_count": 5,
   "metadata": {},
   "outputs": [],
   "source": [
    "def prepare_yahoo():\n",
    "    btc = yf.Ticker(\"BTC-USD\")\n",
    "    btc_data = btc.history(period=\"5y\")\n",
    "    btc_data['Date'] = btc_data.index\n",
    "    btc_data['Date'] = pd.to_datetime(btc_data['Date'])\n",
    "    btc_data = btc_data[btc_data['Date'] >= '2016-01-01']\n",
    "    btc_data = btc_data.drop(['Dividends', 'Stock Splits'], 1)\n",
    "    btc_data.reset_index(drop=True, inplace=True)\n",
    "    btc_data['weekday'] = btc_data['Date'].dt.dayofweek\n",
    "    btc_data['Date'] = btc_data['Date'].astype('str')\n",
    "    btc_data = btc_data.rename(columns={'Open': 'open', 'High': 'high', 'Low': 'low', \n",
    "                                        'Close': 'close', 'Volume':'volume'})\n",
    "    gbtc = yf.Ticker(\"GBTC\")\n",
    "    gbtc_data = gbtc.history(period=\"6y\")\n",
    "    gbtc_data['Date'] = gbtc_data.index\n",
    "    gbtc_data['Date'] = pd.to_datetime(gbtc_data['Date'])\n",
    "    gbtc_data = gbtc_data[gbtc_data['Date'] >= '2015-01-01']\n",
    "    gbtc_data = gbtc_data.drop(['Dividends', 'Stock Splits'], 1)\n",
    "    gbtc_data.reset_index(drop=True, inplace=True)\n",
    "    gbtc_data['Date'] = gbtc_data['Date'].astype('str')\n",
    "    gbtc_data = gbtc_data.rename(columns={'Open': 'gopen', 'High': 'ghigh', 'Low': 'glow', \n",
    "                                        'Close': 'gclose', 'Volume':'gvolume'})\n",
    "    gbtc_data['gopen_shifted'] = gbtc_data['gopen'].shift(180)\n",
    "    gbtc_data['ghigh_shifted'] = gbtc_data['ghigh'].shift(180)\n",
    "    gbtc_data['glow_shifted'] = gbtc_data['glow'].shift(180)\n",
    "    gbtc_data['gclose_shifted'] = gbtc_data['gclose'].shift(180)\n",
    "    gbtc_data['gvolume_shifted'] = gbtc_data['gopen'].shift(180)\n",
    "    gbtc_data = gbtc_data[gbtc_data['Date'] >= '2016-01-01']\n",
    "    data = pd.merge(btc_data, gbtc_data, on='Date', how='inner')\n",
    "    return data\n",
    "    \n",
    "def add_technicals(data, symbol):\n",
    "    if symbol == 'btc':\n",
    "        ohlcv = data[['open', 'high', 'low', 'close', 'volume']]\n",
    "    elif symbol == 'gbtc':\n",
    "        ohlcv = data[['gopen', 'ghigh', 'glow', 'gclose', 'gvolume']]\n",
    "        ohlcv = ohlcv.rename(columns={'gopen': 'open', 'ghigh': 'high', 'glow': 'low', \n",
    "                                        'gclose': 'close', 'gvolume':'volume'})\n",
    "    bb = TA.BBANDS(ohlcv, period=21)\n",
    "    atr = TA.ATR(ohlcv)\n",
    "    adx = TA.ADX(ohlcv)\n",
    "    mfi = TA.MFI(ohlcv)\n",
    "    srsi = TA.STOCHRSI(ohlcv)\n",
    "    ppo = TA.PPO(ohlcv)\n",
    "    macd = TA.MACD(ohlcv)\n",
    "    trima = TA.TRIMA(ohlcv)\n",
    "    chaikin = TA.CHAIKIN(ohlcv)\n",
    "    roc = TA.ROC(ohlcv)\n",
    "    cmo = TA.CMO(ohlcv)\n",
    "    baspn = TA.BASPN(ohlcv)\n",
    "    data['volatility_21'] = (ohlcv['close'].rolling(21)).std(ddof=0)\n",
    "    data['PCT'] = ohlcv['close'].pct_change()\n",
    "    data['bb_up'] = bb['BB_UPPER']\n",
    "    data['bb_mid'] = bb['BB_MIDDLE']\n",
    "    data['bb_low'] = bb['BB_LOWER']\n",
    "    data['atr'] = atr\n",
    "    data['adx'] = adx\n",
    "    data['mfi'] = mfi\n",
    "    data['trima'] = trima\n",
    "    data['macd'] = macd['MACD']\n",
    "    data['srsi'] = srsi\n",
    "    data['ppo'] = ppo['PPO']\n",
    "    data['chaikin'] = chaikin\n",
    "    data['cmo'] = cmo\n",
    "    data['roc'] = roc\n",
    "    data['buy'] = baspn['Buy.']\n",
    "    data['sell'] = baspn['Sell.']\n",
    "    data = data.fillna(0)\n",
    "    return data\n",
    "    \n",
    "\n",
    "def collect_btc_data():\n",
    "    begin_timestamp = \"2016-01-01\"\n",
    "    end_timestamp = datetime.datetime.utcnow().strftime(\"%Y%m%d\")\n",
    "    \n",
    "    # Yahoo Finance Data\n",
    "    btc_yahoo = prepare_yahoo()\n",
    "    btc_yahoo = add_technicals(btc_yahoo, 'btc')\n",
    "    \n",
    "    # CoinMetrics Data\n",
    "    coin_features = coinmetrics_to_dataframe(begin_timestamp, end_timestamp)\n",
    "    \n",
    "    features = pd.merge(btc_yahoo, coin_features, on='Date', how='inner')\n",
    "\n",
    "    #features['target'] = (features['open'] / features['close']).apply(lambda x: int(x > 1)).shift(1)\n",
    "    features['gbtc_premium'] = features['gclose'] / features['close']\n",
    "    features['target'] = get_target(np.array(features['close']), 7, 0.05)\n",
    "    #features['target'] = (features['close'].shift(-14) / features['close']).apply(lambda x: int(x > 1))\n",
    "    #features['target'] = features['target'].fillna(0)\n",
    "    return features"
   ]
  },
  {
   "cell_type": "code",
   "execution_count": 6,
   "metadata": {},
   "outputs": [],
   "source": [
    "def contains_btc_reference(text):\n",
    "    keywords = ['crypto', 'bitcoin', 'Bitcoin', 'Crypto', 'BTC', 'Coin', 'coin']\n",
    "    for keyword in keywords:\n",
    "        if keyword in text:\n",
    "            return 1\n",
    "    return 0"
   ]
  },
  {
   "cell_type": "code",
   "execution_count": 7,
   "metadata": {},
   "outputs": [],
   "source": [
    "news_df = pd.read_csv('/Users/alex/Documents/jupyter notebooks/csv/nyt_news_sentiment.csv')\n",
    "news_df.drop('Unnamed: 0', 1, inplace=True)\n",
    "news_df = news_df.rename(columns={'date': 'Date'})\n",
    "news_df['Date'] = news_df['Date'].astype('str')\n",
    "news_df['btc_reference'] = news_df['text'].apply(lambda x: contains_btc_reference(x))\n",
    "ref_count = news_df.groupby('Date')['btc_reference'].sum()\n",
    "news_df['btc_reference'] = news_df['Date'].map(ref_count)\n",
    "news_df = news_df.drop_duplicates('Date', keep='first')\n",
    "news_df['sentiment'] = news_df['mean_sentiment'].apply(lambda x: int(x > 0.5))\n",
    "news_df = news_df.reset_index()\n",
    "news_df.drop('index', 1, inplace=True)"
   ]
  },
  {
   "cell_type": "code",
   "execution_count": 8,
   "metadata": {},
   "outputs": [],
   "source": [
    "trends_df = pd.read_csv('/Users/alex/Documents/jupyter notebooks/csv/btc_google_trends.csv')\n",
    "trends_df.drop('Unnamed: 0', 1, inplace=True)\n",
    "trends_df = trends_df.rename(columns={'date': 'Date'})\n",
    "trends_df['Date'] = trends_df['Date'].astype('str')"
   ]
  },
  {
   "cell_type": "code",
   "execution_count": 9,
   "metadata": {},
   "outputs": [],
   "source": [
    "features = collect_btc_data()"
   ]
  },
  {
   "cell_type": "code",
   "execution_count": 10,
   "metadata": {},
   "outputs": [],
   "source": [
    "features = pd.merge(features, news_df[['Date', 'sentiment', 'mean_sentiment', 'btc_reference']], on='Date', how='inner')\n",
    "features = pd.merge(features, trends_df, on='Date', how='inner')"
   ]
  },
  {
   "cell_type": "code",
   "execution_count": 11,
   "metadata": {},
   "outputs": [],
   "source": [
    "features = features.loc[20:features.index[-1] - 7]"
   ]
  },
  {
   "cell_type": "code",
   "execution_count": 12,
   "metadata": {
    "scrolled": true
   },
   "outputs": [
    {
     "data": {
      "text/html": [
       "<div>\n",
       "<style scoped>\n",
       "    .dataframe tbody tr th:only-of-type {\n",
       "        vertical-align: middle;\n",
       "    }\n",
       "\n",
       "    .dataframe tbody tr th {\n",
       "        vertical-align: top;\n",
       "    }\n",
       "\n",
       "    .dataframe thead th {\n",
       "        text-align: right;\n",
       "    }\n",
       "</style>\n",
       "<table border=\"1\" class=\"dataframe\">\n",
       "  <thead>\n",
       "    <tr style=\"text-align: right;\">\n",
       "      <th></th>\n",
       "      <th>open</th>\n",
       "      <th>high</th>\n",
       "      <th>low</th>\n",
       "      <th>close</th>\n",
       "      <th>volume</th>\n",
       "      <th>Date</th>\n",
       "      <th>weekday</th>\n",
       "      <th>gopen</th>\n",
       "      <th>ghigh</th>\n",
       "      <th>glow</th>\n",
       "      <th>...</th>\n",
       "      <th>TxTfrValUSD</th>\n",
       "      <th>VtyDayRet180d</th>\n",
       "      <th>VtyDayRet30d</th>\n",
       "      <th>VtyDayRet60d</th>\n",
       "      <th>gbtc_premium</th>\n",
       "      <th>target</th>\n",
       "      <th>sentiment</th>\n",
       "      <th>mean_sentiment</th>\n",
       "      <th>btc_reference</th>\n",
       "      <th>search_idx</th>\n",
       "    </tr>\n",
       "  </thead>\n",
       "  <tbody>\n",
       "    <tr>\n",
       "      <th>20</th>\n",
       "      <td>421.299011</td>\n",
       "      <td>422.342987</td>\n",
       "      <td>419.601013</td>\n",
       "      <td>421.444000</td>\n",
       "      <td>50634300</td>\n",
       "      <td>2016-04-04</td>\n",
       "      <td>0</td>\n",
       "      <td>0.601648</td>\n",
       "      <td>0.626264</td>\n",
       "      <td>0.598901</td>\n",
       "      <td>...</td>\n",
       "      <td>6.972225e+08</td>\n",
       "      <td>0.032617</td>\n",
       "      <td>0.010596</td>\n",
       "      <td>0.015812</td>\n",
       "      <td>0.001486</td>\n",
       "      <td>0</td>\n",
       "      <td>1</td>\n",
       "      <td>0.583333</td>\n",
       "      <td>0</td>\n",
       "      <td>1775</td>\n",
       "    </tr>\n",
       "    <tr>\n",
       "      <th>21</th>\n",
       "      <td>421.016998</td>\n",
       "      <td>424.256989</td>\n",
       "      <td>420.614014</td>\n",
       "      <td>424.029999</td>\n",
       "      <td>60718000</td>\n",
       "      <td>2016-04-05</td>\n",
       "      <td>1</td>\n",
       "      <td>0.637363</td>\n",
       "      <td>0.637363</td>\n",
       "      <td>0.626374</td>\n",
       "      <td>...</td>\n",
       "      <td>7.101717e+08</td>\n",
       "      <td>0.032615</td>\n",
       "      <td>0.010307</td>\n",
       "      <td>0.015705</td>\n",
       "      <td>0.001499</td>\n",
       "      <td>0</td>\n",
       "      <td>0</td>\n",
       "      <td>0.269231</td>\n",
       "      <td>0</td>\n",
       "      <td>1832</td>\n",
       "    </tr>\n",
       "    <tr>\n",
       "      <th>22</th>\n",
       "      <td>424.283997</td>\n",
       "      <td>424.527008</td>\n",
       "      <td>422.729004</td>\n",
       "      <td>423.412994</td>\n",
       "      <td>59091000</td>\n",
       "      <td>2016-04-06</td>\n",
       "      <td>2</td>\n",
       "      <td>0.635714</td>\n",
       "      <td>0.635714</td>\n",
       "      <td>0.627473</td>\n",
       "      <td>...</td>\n",
       "      <td>7.311456e+08</td>\n",
       "      <td>0.032616</td>\n",
       "      <td>0.009457</td>\n",
       "      <td>0.015297</td>\n",
       "      <td>0.001489</td>\n",
       "      <td>0</td>\n",
       "      <td>0</td>\n",
       "      <td>0.342105</td>\n",
       "      <td>0</td>\n",
       "      <td>1837</td>\n",
       "    </tr>\n",
       "    <tr>\n",
       "      <th>23</th>\n",
       "      <td>423.619995</td>\n",
       "      <td>423.657013</td>\n",
       "      <td>420.518005</td>\n",
       "      <td>422.744995</td>\n",
       "      <td>57858600</td>\n",
       "      <td>2016-04-07</td>\n",
       "      <td>3</td>\n",
       "      <td>0.626374</td>\n",
       "      <td>0.626374</td>\n",
       "      <td>0.607363</td>\n",
       "      <td>...</td>\n",
       "      <td>8.362934e+08</td>\n",
       "      <td>0.032616</td>\n",
       "      <td>0.009415</td>\n",
       "      <td>0.015302</td>\n",
       "      <td>0.001437</td>\n",
       "      <td>0</td>\n",
       "      <td>0</td>\n",
       "      <td>0.285714</td>\n",
       "      <td>0</td>\n",
       "      <td>1839</td>\n",
       "    </tr>\n",
       "    <tr>\n",
       "      <th>24</th>\n",
       "      <td>422.907013</td>\n",
       "      <td>425.360992</td>\n",
       "      <td>419.635010</td>\n",
       "      <td>420.348999</td>\n",
       "      <td>63454700</td>\n",
       "      <td>2016-04-08</td>\n",
       "      <td>4</td>\n",
       "      <td>0.607253</td>\n",
       "      <td>0.640659</td>\n",
       "      <td>0.607253</td>\n",
       "      <td>...</td>\n",
       "      <td>7.154980e+08</td>\n",
       "      <td>0.032620</td>\n",
       "      <td>0.009506</td>\n",
       "      <td>0.015241</td>\n",
       "      <td>0.001524</td>\n",
       "      <td>0</td>\n",
       "      <td>0</td>\n",
       "      <td>0.304348</td>\n",
       "      <td>0</td>\n",
       "      <td>1800</td>\n",
       "    </tr>\n",
       "    <tr>\n",
       "      <th>25</th>\n",
       "      <td>421.872009</td>\n",
       "      <td>422.739014</td>\n",
       "      <td>420.532990</td>\n",
       "      <td>422.483002</td>\n",
       "      <td>50747500</td>\n",
       "      <td>2016-04-11</td>\n",
       "      <td>0</td>\n",
       "      <td>0.653846</td>\n",
       "      <td>0.653846</td>\n",
       "      <td>0.615385</td>\n",
       "      <td>...</td>\n",
       "      <td>6.728725e+08</td>\n",
       "      <td>0.032585</td>\n",
       "      <td>0.008355</td>\n",
       "      <td>0.015135</td>\n",
       "      <td>0.001457</td>\n",
       "      <td>0</td>\n",
       "      <td>0</td>\n",
       "      <td>0.407407</td>\n",
       "      <td>0</td>\n",
       "      <td>1840</td>\n",
       "    </tr>\n",
       "    <tr>\n",
       "      <th>26</th>\n",
       "      <td>422.842987</td>\n",
       "      <td>427.277008</td>\n",
       "      <td>422.842987</td>\n",
       "      <td>425.190002</td>\n",
       "      <td>70728800</td>\n",
       "      <td>2016-04-12</td>\n",
       "      <td>1</td>\n",
       "      <td>0.626374</td>\n",
       "      <td>0.632527</td>\n",
       "      <td>0.626264</td>\n",
       "      <td>...</td>\n",
       "      <td>9.139471e+08</td>\n",
       "      <td>0.032588</td>\n",
       "      <td>0.008493</td>\n",
       "      <td>0.015110</td>\n",
       "      <td>0.001473</td>\n",
       "      <td>0</td>\n",
       "      <td>0</td>\n",
       "      <td>0.241379</td>\n",
       "      <td>0</td>\n",
       "      <td>1832</td>\n",
       "    </tr>\n",
       "    <tr>\n",
       "      <th>27</th>\n",
       "      <td>425.631989</td>\n",
       "      <td>426.657990</td>\n",
       "      <td>422.915985</td>\n",
       "      <td>423.734009</td>\n",
       "      <td>69060400</td>\n",
       "      <td>2016-04-13</td>\n",
       "      <td>2</td>\n",
       "      <td>0.617802</td>\n",
       "      <td>0.617802</td>\n",
       "      <td>0.608022</td>\n",
       "      <td>...</td>\n",
       "      <td>9.551375e+08</td>\n",
       "      <td>0.032526</td>\n",
       "      <td>0.008500</td>\n",
       "      <td>0.014974</td>\n",
       "      <td>0.001435</td>\n",
       "      <td>1</td>\n",
       "      <td>0</td>\n",
       "      <td>0.400000</td>\n",
       "      <td>0</td>\n",
       "      <td>1742</td>\n",
       "    </tr>\n",
       "    <tr>\n",
       "      <th>28</th>\n",
       "      <td>423.934998</td>\n",
       "      <td>425.371002</td>\n",
       "      <td>423.013000</td>\n",
       "      <td>424.282013</td>\n",
       "      <td>45281000</td>\n",
       "      <td>2016-04-14</td>\n",
       "      <td>3</td>\n",
       "      <td>0.610440</td>\n",
       "      <td>0.637363</td>\n",
       "      <td>0.610440</td>\n",
       "      <td>...</td>\n",
       "      <td>8.124524e+08</td>\n",
       "      <td>0.032439</td>\n",
       "      <td>0.008504</td>\n",
       "      <td>0.014017</td>\n",
       "      <td>0.001452</td>\n",
       "      <td>1</td>\n",
       "      <td>0</td>\n",
       "      <td>0.250000</td>\n",
       "      <td>0</td>\n",
       "      <td>1732</td>\n",
       "    </tr>\n",
       "    <tr>\n",
       "      <th>29</th>\n",
       "      <td>424.427002</td>\n",
       "      <td>429.928009</td>\n",
       "      <td>424.427002</td>\n",
       "      <td>429.713013</td>\n",
       "      <td>54801500</td>\n",
       "      <td>2016-04-15</td>\n",
       "      <td>4</td>\n",
       "      <td>0.623077</td>\n",
       "      <td>0.653846</td>\n",
       "      <td>0.623077</td>\n",
       "      <td>...</td>\n",
       "      <td>9.001021e+08</td>\n",
       "      <td>0.032344</td>\n",
       "      <td>0.008700</td>\n",
       "      <td>0.013882</td>\n",
       "      <td>0.001499</td>\n",
       "      <td>1</td>\n",
       "      <td>0</td>\n",
       "      <td>0.440000</td>\n",
       "      <td>0</td>\n",
       "      <td>1065</td>\n",
       "    </tr>\n",
       "    <tr>\n",
       "      <th>30</th>\n",
       "      <td>427.610992</td>\n",
       "      <td>429.273987</td>\n",
       "      <td>427.085999</td>\n",
       "      <td>428.591003</td>\n",
       "      <td>55670900</td>\n",
       "      <td>2016-04-18</td>\n",
       "      <td>0</td>\n",
       "      <td>0.653846</td>\n",
       "      <td>0.653846</td>\n",
       "      <td>0.637363</td>\n",
       "      <td>...</td>\n",
       "      <td>8.495387e+08</td>\n",
       "      <td>0.032298</td>\n",
       "      <td>0.007525</td>\n",
       "      <td>0.013363</td>\n",
       "      <td>0.001523</td>\n",
       "      <td>1</td>\n",
       "      <td>1</td>\n",
       "      <td>0.518519</td>\n",
       "      <td>0</td>\n",
       "      <td>987</td>\n",
       "    </tr>\n",
       "    <tr>\n",
       "      <th>31</th>\n",
       "      <td>428.703003</td>\n",
       "      <td>436.019989</td>\n",
       "      <td>428.104004</td>\n",
       "      <td>435.509003</td>\n",
       "      <td>52810500</td>\n",
       "      <td>2016-04-19</td>\n",
       "      <td>1</td>\n",
       "      <td>0.652637</td>\n",
       "      <td>0.658242</td>\n",
       "      <td>0.650000</td>\n",
       "      <td>...</td>\n",
       "      <td>9.335371e+08</td>\n",
       "      <td>0.032267</td>\n",
       "      <td>0.008060</td>\n",
       "      <td>0.013549</td>\n",
       "      <td>0.001501</td>\n",
       "      <td>1</td>\n",
       "      <td>0</td>\n",
       "      <td>0.240000</td>\n",
       "      <td>0</td>\n",
       "      <td>1021</td>\n",
       "    </tr>\n",
       "    <tr>\n",
       "      <th>32</th>\n",
       "      <td>435.324005</td>\n",
       "      <td>443.053986</td>\n",
       "      <td>434.406006</td>\n",
       "      <td>441.389008</td>\n",
       "      <td>72890096</td>\n",
       "      <td>2016-04-20</td>\n",
       "      <td>2</td>\n",
       "      <td>0.658242</td>\n",
       "      <td>0.697802</td>\n",
       "      <td>0.657692</td>\n",
       "      <td>...</td>\n",
       "      <td>9.494247e+08</td>\n",
       "      <td>0.032267</td>\n",
       "      <td>0.008222</td>\n",
       "      <td>0.012145</td>\n",
       "      <td>0.001556</td>\n",
       "      <td>1</td>\n",
       "      <td>1</td>\n",
       "      <td>0.629630</td>\n",
       "      <td>0</td>\n",
       "      <td>1042</td>\n",
       "    </tr>\n",
       "    <tr>\n",
       "      <th>33</th>\n",
       "      <td>441.415985</td>\n",
       "      <td>450.548004</td>\n",
       "      <td>440.951996</td>\n",
       "      <td>449.424988</td>\n",
       "      <td>68204704</td>\n",
       "      <td>2016-04-21</td>\n",
       "      <td>3</td>\n",
       "      <td>0.692308</td>\n",
       "      <td>0.763736</td>\n",
       "      <td>0.691758</td>\n",
       "      <td>...</td>\n",
       "      <td>1.161558e+09</td>\n",
       "      <td>0.032277</td>\n",
       "      <td>0.008748</td>\n",
       "      <td>0.012438</td>\n",
       "      <td>0.001607</td>\n",
       "      <td>0</td>\n",
       "      <td>0</td>\n",
       "      <td>0.440000</td>\n",
       "      <td>0</td>\n",
       "      <td>1145</td>\n",
       "    </tr>\n",
       "    <tr>\n",
       "      <th>34</th>\n",
       "      <td>449.687988</td>\n",
       "      <td>449.809998</td>\n",
       "      <td>444.149994</td>\n",
       "      <td>445.737000</td>\n",
       "      <td>58804400</td>\n",
       "      <td>2016-04-22</td>\n",
       "      <td>4</td>\n",
       "      <td>0.747253</td>\n",
       "      <td>0.785604</td>\n",
       "      <td>0.745604</td>\n",
       "      <td>...</td>\n",
       "      <td>1.046145e+09</td>\n",
       "      <td>0.032285</td>\n",
       "      <td>0.009004</td>\n",
       "      <td>0.012492</td>\n",
       "      <td>0.001748</td>\n",
       "      <td>0</td>\n",
       "      <td>0</td>\n",
       "      <td>0.440000</td>\n",
       "      <td>0</td>\n",
       "      <td>1891</td>\n",
       "    </tr>\n",
       "    <tr>\n",
       "      <th>35</th>\n",
       "      <td>459.121002</td>\n",
       "      <td>466.619995</td>\n",
       "      <td>453.592010</td>\n",
       "      <td>461.425995</td>\n",
       "      <td>87091800</td>\n",
       "      <td>2016-04-25</td>\n",
       "      <td>0</td>\n",
       "      <td>0.802198</td>\n",
       "      <td>0.862637</td>\n",
       "      <td>0.780220</td>\n",
       "      <td>...</td>\n",
       "      <td>1.067622e+09</td>\n",
       "      <td>0.032192</td>\n",
       "      <td>0.009454</td>\n",
       "      <td>0.011590</td>\n",
       "      <td>0.001763</td>\n",
       "      <td>0</td>\n",
       "      <td>1</td>\n",
       "      <td>0.576923</td>\n",
       "      <td>0</td>\n",
       "      <td>1871</td>\n",
       "    </tr>\n",
       "    <tr>\n",
       "      <th>36</th>\n",
       "      <td>461.648010</td>\n",
       "      <td>467.964996</td>\n",
       "      <td>461.621002</td>\n",
       "      <td>466.088989</td>\n",
       "      <td>78971904</td>\n",
       "      <td>2016-04-26</td>\n",
       "      <td>1</td>\n",
       "      <td>0.846154</td>\n",
       "      <td>0.873626</td>\n",
       "      <td>0.808791</td>\n",
       "      <td>...</td>\n",
       "      <td>1.166537e+09</td>\n",
       "      <td>0.032110</td>\n",
       "      <td>0.008973</td>\n",
       "      <td>0.011435</td>\n",
       "      <td>0.001735</td>\n",
       "      <td>0</td>\n",
       "      <td>1</td>\n",
       "      <td>0.586207</td>\n",
       "      <td>0</td>\n",
       "      <td>1927</td>\n",
       "    </tr>\n",
       "    <tr>\n",
       "      <th>37</th>\n",
       "      <td>466.261993</td>\n",
       "      <td>467.079010</td>\n",
       "      <td>444.134003</td>\n",
       "      <td>444.687012</td>\n",
       "      <td>93564896</td>\n",
       "      <td>2016-04-27</td>\n",
       "      <td>2</td>\n",
       "      <td>0.791209</td>\n",
       "      <td>0.867033</td>\n",
       "      <td>0.748352</td>\n",
       "      <td>...</td>\n",
       "      <td>1.032444e+09</td>\n",
       "      <td>0.032223</td>\n",
       "      <td>0.013459</td>\n",
       "      <td>0.013360</td>\n",
       "      <td>0.001779</td>\n",
       "      <td>0</td>\n",
       "      <td>0</td>\n",
       "      <td>0.400000</td>\n",
       "      <td>0</td>\n",
       "      <td>1871</td>\n",
       "    </tr>\n",
       "    <tr>\n",
       "      <th>38</th>\n",
       "      <td>445.037994</td>\n",
       "      <td>449.550995</td>\n",
       "      <td>436.649994</td>\n",
       "      <td>449.010986</td>\n",
       "      <td>74064704</td>\n",
       "      <td>2016-04-28</td>\n",
       "      <td>3</td>\n",
       "      <td>0.780220</td>\n",
       "      <td>0.791209</td>\n",
       "      <td>0.753297</td>\n",
       "      <td>...</td>\n",
       "      <td>1.017847e+09</td>\n",
       "      <td>0.032043</td>\n",
       "      <td>0.013108</td>\n",
       "      <td>0.013441</td>\n",
       "      <td>0.001703</td>\n",
       "      <td>0</td>\n",
       "      <td>0</td>\n",
       "      <td>0.233333</td>\n",
       "      <td>0</td>\n",
       "      <td>2050</td>\n",
       "    </tr>\n",
       "    <tr>\n",
       "      <th>39</th>\n",
       "      <td>449.407990</td>\n",
       "      <td>455.384003</td>\n",
       "      <td>446.016998</td>\n",
       "      <td>455.096985</td>\n",
       "      <td>49258500</td>\n",
       "      <td>2016-04-29</td>\n",
       "      <td>4</td>\n",
       "      <td>0.791099</td>\n",
       "      <td>0.818681</td>\n",
       "      <td>0.753297</td>\n",
       "      <td>...</td>\n",
       "      <td>9.604832e+08</td>\n",
       "      <td>0.031861</td>\n",
       "      <td>0.013096</td>\n",
       "      <td>0.013474</td>\n",
       "      <td>0.001731</td>\n",
       "      <td>0</td>\n",
       "      <td>0</td>\n",
       "      <td>0.413793</td>\n",
       "      <td>0</td>\n",
       "      <td>606</td>\n",
       "    </tr>\n",
       "    <tr>\n",
       "      <th>40</th>\n",
       "      <td>451.933014</td>\n",
       "      <td>452.445007</td>\n",
       "      <td>441.776001</td>\n",
       "      <td>444.669006</td>\n",
       "      <td>92127000</td>\n",
       "      <td>2016-05-02</td>\n",
       "      <td>0</td>\n",
       "      <td>0.787912</td>\n",
       "      <td>0.845604</td>\n",
       "      <td>0.776813</td>\n",
       "      <td>...</td>\n",
       "      <td>9.599043e+08</td>\n",
       "      <td>0.030264</td>\n",
       "      <td>0.014355</td>\n",
       "      <td>0.013548</td>\n",
       "      <td>0.001848</td>\n",
       "      <td>0</td>\n",
       "      <td>0</td>\n",
       "      <td>0.461538</td>\n",
       "      <td>1</td>\n",
       "      <td>1467</td>\n",
       "    </tr>\n",
       "    <tr>\n",
       "      <th>41</th>\n",
       "      <td>444.726990</td>\n",
       "      <td>451.096985</td>\n",
       "      <td>442.617004</td>\n",
       "      <td>450.303986</td>\n",
       "      <td>59366400</td>\n",
       "      <td>2016-05-03</td>\n",
       "      <td>1</td>\n",
       "      <td>0.813187</td>\n",
       "      <td>0.856044</td>\n",
       "      <td>0.813187</td>\n",
       "      <td>...</td>\n",
       "      <td>9.120407e+08</td>\n",
       "      <td>0.030010</td>\n",
       "      <td>0.014547</td>\n",
       "      <td>0.013146</td>\n",
       "      <td>0.001824</td>\n",
       "      <td>0</td>\n",
       "      <td>0</td>\n",
       "      <td>0.379310</td>\n",
       "      <td>0</td>\n",
       "      <td>1008</td>\n",
       "    </tr>\n",
       "    <tr>\n",
       "      <th>42</th>\n",
       "      <td>450.183014</td>\n",
       "      <td>450.377991</td>\n",
       "      <td>445.630005</td>\n",
       "      <td>446.721985</td>\n",
       "      <td>50407300</td>\n",
       "      <td>2016-05-04</td>\n",
       "      <td>2</td>\n",
       "      <td>0.818681</td>\n",
       "      <td>0.838352</td>\n",
       "      <td>0.792308</td>\n",
       "      <td>...</td>\n",
       "      <td>9.243327e+08</td>\n",
       "      <td>0.029927</td>\n",
       "      <td>0.014640</td>\n",
       "      <td>0.012672</td>\n",
       "      <td>0.001845</td>\n",
       "      <td>0</td>\n",
       "      <td>0</td>\n",
       "      <td>0.206897</td>\n",
       "      <td>0</td>\n",
       "      <td>668</td>\n",
       "    </tr>\n",
       "    <tr>\n",
       "      <th>43</th>\n",
       "      <td>446.710999</td>\n",
       "      <td>448.506012</td>\n",
       "      <td>445.882996</td>\n",
       "      <td>447.976013</td>\n",
       "      <td>50440800</td>\n",
       "      <td>2016-05-05</td>\n",
       "      <td>3</td>\n",
       "      <td>0.824176</td>\n",
       "      <td>0.832418</td>\n",
       "      <td>0.810440</td>\n",
       "      <td>...</td>\n",
       "      <td>8.798994e+08</td>\n",
       "      <td>0.029814</td>\n",
       "      <td>0.014611</td>\n",
       "      <td>0.012539</td>\n",
       "      <td>0.001809</td>\n",
       "      <td>0</td>\n",
       "      <td>0</td>\n",
       "      <td>0.192308</td>\n",
       "      <td>1</td>\n",
       "      <td>697</td>\n",
       "    </tr>\n",
       "    <tr>\n",
       "      <th>44</th>\n",
       "      <td>447.941986</td>\n",
       "      <td>461.375000</td>\n",
       "      <td>447.067993</td>\n",
       "      <td>459.602997</td>\n",
       "      <td>72796800</td>\n",
       "      <td>2016-05-06</td>\n",
       "      <td>4</td>\n",
       "      <td>0.810440</td>\n",
       "      <td>0.824176</td>\n",
       "      <td>0.802198</td>\n",
       "      <td>...</td>\n",
       "      <td>9.920478e+08</td>\n",
       "      <td>0.029741</td>\n",
       "      <td>0.015292</td>\n",
       "      <td>0.012659</td>\n",
       "      <td>0.001791</td>\n",
       "      <td>0</td>\n",
       "      <td>0</td>\n",
       "      <td>0.363636</td>\n",
       "      <td>0</td>\n",
       "      <td>2046</td>\n",
       "    </tr>\n",
       "    <tr>\n",
       "      <th>45</th>\n",
       "      <td>458.205994</td>\n",
       "      <td>462.480988</td>\n",
       "      <td>456.531006</td>\n",
       "      <td>460.483002</td>\n",
       "      <td>55493100</td>\n",
       "      <td>2016-05-09</td>\n",
       "      <td>0</td>\n",
       "      <td>0.823077</td>\n",
       "      <td>0.832967</td>\n",
       "      <td>0.819231</td>\n",
       "      <td>...</td>\n",
       "      <td>8.237505e+08</td>\n",
       "      <td>0.027472</td>\n",
       "      <td>0.015181</td>\n",
       "      <td>0.012608</td>\n",
       "      <td>0.001808</td>\n",
       "      <td>0</td>\n",
       "      <td>0</td>\n",
       "      <td>0.481481</td>\n",
       "      <td>1</td>\n",
       "      <td>1846</td>\n",
       "    </tr>\n",
       "    <tr>\n",
       "      <th>46</th>\n",
       "      <td>460.518005</td>\n",
       "      <td>461.928986</td>\n",
       "      <td>448.954010</td>\n",
       "      <td>450.894989</td>\n",
       "      <td>58956100</td>\n",
       "      <td>2016-05-10</td>\n",
       "      <td>1</td>\n",
       "      <td>0.840549</td>\n",
       "      <td>0.842857</td>\n",
       "      <td>0.807692</td>\n",
       "      <td>...</td>\n",
       "      <td>9.057848e+08</td>\n",
       "      <td>0.026786</td>\n",
       "      <td>0.016139</td>\n",
       "      <td>0.013121</td>\n",
       "      <td>0.001791</td>\n",
       "      <td>0</td>\n",
       "      <td>0</td>\n",
       "      <td>0.269231</td>\n",
       "      <td>0</td>\n",
       "      <td>1843</td>\n",
       "    </tr>\n",
       "    <tr>\n",
       "      <th>47</th>\n",
       "      <td>450.864014</td>\n",
       "      <td>454.575989</td>\n",
       "      <td>450.864014</td>\n",
       "      <td>452.727997</td>\n",
       "      <td>50605200</td>\n",
       "      <td>2016-05-11</td>\n",
       "      <td>2</td>\n",
       "      <td>0.807692</td>\n",
       "      <td>0.813187</td>\n",
       "      <td>0.807582</td>\n",
       "      <td>...</td>\n",
       "      <td>1.038331e+09</td>\n",
       "      <td>0.026787</td>\n",
       "      <td>0.016155</td>\n",
       "      <td>0.012767</td>\n",
       "      <td>0.001784</td>\n",
       "      <td>0</td>\n",
       "      <td>0</td>\n",
       "      <td>0.333333</td>\n",
       "      <td>0</td>\n",
       "      <td>1749</td>\n",
       "    </tr>\n",
       "    <tr>\n",
       "      <th>48</th>\n",
       "      <td>452.446991</td>\n",
       "      <td>454.949005</td>\n",
       "      <td>449.250000</td>\n",
       "      <td>454.765991</td>\n",
       "      <td>59849300</td>\n",
       "      <td>2016-05-12</td>\n",
       "      <td>3</td>\n",
       "      <td>0.807473</td>\n",
       "      <td>0.807692</td>\n",
       "      <td>0.796703</td>\n",
       "      <td>...</td>\n",
       "      <td>9.444277e+08</td>\n",
       "      <td>0.026767</td>\n",
       "      <td>0.016096</td>\n",
       "      <td>0.012767</td>\n",
       "      <td>0.001752</td>\n",
       "      <td>0</td>\n",
       "      <td>0</td>\n",
       "      <td>0.346154</td>\n",
       "      <td>0</td>\n",
       "      <td>1700</td>\n",
       "    </tr>\n",
       "    <tr>\n",
       "      <th>49</th>\n",
       "      <td>454.850006</td>\n",
       "      <td>457.054993</td>\n",
       "      <td>453.453003</td>\n",
       "      <td>455.670013</td>\n",
       "      <td>60845000</td>\n",
       "      <td>2016-05-13</td>\n",
       "      <td>4</td>\n",
       "      <td>0.797253</td>\n",
       "      <td>0.807692</td>\n",
       "      <td>0.791209</td>\n",
       "      <td>...</td>\n",
       "      <td>1.026188e+09</td>\n",
       "      <td>0.026582</td>\n",
       "      <td>0.016025</td>\n",
       "      <td>0.012745</td>\n",
       "      <td>0.001738</td>\n",
       "      <td>0</td>\n",
       "      <td>0</td>\n",
       "      <td>0.294118</td>\n",
       "      <td>0</td>\n",
       "      <td>1924</td>\n",
       "    </tr>\n",
       "  </tbody>\n",
       "</table>\n",
       "<p>30 rows × 82 columns</p>\n",
       "</div>"
      ],
      "text/plain": [
       "          open        high         low       close    volume        Date  \\\n",
       "20  421.299011  422.342987  419.601013  421.444000  50634300  2016-04-04   \n",
       "21  421.016998  424.256989  420.614014  424.029999  60718000  2016-04-05   \n",
       "22  424.283997  424.527008  422.729004  423.412994  59091000  2016-04-06   \n",
       "23  423.619995  423.657013  420.518005  422.744995  57858600  2016-04-07   \n",
       "24  422.907013  425.360992  419.635010  420.348999  63454700  2016-04-08   \n",
       "25  421.872009  422.739014  420.532990  422.483002  50747500  2016-04-11   \n",
       "26  422.842987  427.277008  422.842987  425.190002  70728800  2016-04-12   \n",
       "27  425.631989  426.657990  422.915985  423.734009  69060400  2016-04-13   \n",
       "28  423.934998  425.371002  423.013000  424.282013  45281000  2016-04-14   \n",
       "29  424.427002  429.928009  424.427002  429.713013  54801500  2016-04-15   \n",
       "30  427.610992  429.273987  427.085999  428.591003  55670900  2016-04-18   \n",
       "31  428.703003  436.019989  428.104004  435.509003  52810500  2016-04-19   \n",
       "32  435.324005  443.053986  434.406006  441.389008  72890096  2016-04-20   \n",
       "33  441.415985  450.548004  440.951996  449.424988  68204704  2016-04-21   \n",
       "34  449.687988  449.809998  444.149994  445.737000  58804400  2016-04-22   \n",
       "35  459.121002  466.619995  453.592010  461.425995  87091800  2016-04-25   \n",
       "36  461.648010  467.964996  461.621002  466.088989  78971904  2016-04-26   \n",
       "37  466.261993  467.079010  444.134003  444.687012  93564896  2016-04-27   \n",
       "38  445.037994  449.550995  436.649994  449.010986  74064704  2016-04-28   \n",
       "39  449.407990  455.384003  446.016998  455.096985  49258500  2016-04-29   \n",
       "40  451.933014  452.445007  441.776001  444.669006  92127000  2016-05-02   \n",
       "41  444.726990  451.096985  442.617004  450.303986  59366400  2016-05-03   \n",
       "42  450.183014  450.377991  445.630005  446.721985  50407300  2016-05-04   \n",
       "43  446.710999  448.506012  445.882996  447.976013  50440800  2016-05-05   \n",
       "44  447.941986  461.375000  447.067993  459.602997  72796800  2016-05-06   \n",
       "45  458.205994  462.480988  456.531006  460.483002  55493100  2016-05-09   \n",
       "46  460.518005  461.928986  448.954010  450.894989  58956100  2016-05-10   \n",
       "47  450.864014  454.575989  450.864014  452.727997  50605200  2016-05-11   \n",
       "48  452.446991  454.949005  449.250000  454.765991  59849300  2016-05-12   \n",
       "49  454.850006  457.054993  453.453003  455.670013  60845000  2016-05-13   \n",
       "\n",
       "    weekday     gopen     ghigh      glow  ...   TxTfrValUSD  VtyDayRet180d  \\\n",
       "20        0  0.601648  0.626264  0.598901  ...  6.972225e+08       0.032617   \n",
       "21        1  0.637363  0.637363  0.626374  ...  7.101717e+08       0.032615   \n",
       "22        2  0.635714  0.635714  0.627473  ...  7.311456e+08       0.032616   \n",
       "23        3  0.626374  0.626374  0.607363  ...  8.362934e+08       0.032616   \n",
       "24        4  0.607253  0.640659  0.607253  ...  7.154980e+08       0.032620   \n",
       "25        0  0.653846  0.653846  0.615385  ...  6.728725e+08       0.032585   \n",
       "26        1  0.626374  0.632527  0.626264  ...  9.139471e+08       0.032588   \n",
       "27        2  0.617802  0.617802  0.608022  ...  9.551375e+08       0.032526   \n",
       "28        3  0.610440  0.637363  0.610440  ...  8.124524e+08       0.032439   \n",
       "29        4  0.623077  0.653846  0.623077  ...  9.001021e+08       0.032344   \n",
       "30        0  0.653846  0.653846  0.637363  ...  8.495387e+08       0.032298   \n",
       "31        1  0.652637  0.658242  0.650000  ...  9.335371e+08       0.032267   \n",
       "32        2  0.658242  0.697802  0.657692  ...  9.494247e+08       0.032267   \n",
       "33        3  0.692308  0.763736  0.691758  ...  1.161558e+09       0.032277   \n",
       "34        4  0.747253  0.785604  0.745604  ...  1.046145e+09       0.032285   \n",
       "35        0  0.802198  0.862637  0.780220  ...  1.067622e+09       0.032192   \n",
       "36        1  0.846154  0.873626  0.808791  ...  1.166537e+09       0.032110   \n",
       "37        2  0.791209  0.867033  0.748352  ...  1.032444e+09       0.032223   \n",
       "38        3  0.780220  0.791209  0.753297  ...  1.017847e+09       0.032043   \n",
       "39        4  0.791099  0.818681  0.753297  ...  9.604832e+08       0.031861   \n",
       "40        0  0.787912  0.845604  0.776813  ...  9.599043e+08       0.030264   \n",
       "41        1  0.813187  0.856044  0.813187  ...  9.120407e+08       0.030010   \n",
       "42        2  0.818681  0.838352  0.792308  ...  9.243327e+08       0.029927   \n",
       "43        3  0.824176  0.832418  0.810440  ...  8.798994e+08       0.029814   \n",
       "44        4  0.810440  0.824176  0.802198  ...  9.920478e+08       0.029741   \n",
       "45        0  0.823077  0.832967  0.819231  ...  8.237505e+08       0.027472   \n",
       "46        1  0.840549  0.842857  0.807692  ...  9.057848e+08       0.026786   \n",
       "47        2  0.807692  0.813187  0.807582  ...  1.038331e+09       0.026787   \n",
       "48        3  0.807473  0.807692  0.796703  ...  9.444277e+08       0.026767   \n",
       "49        4  0.797253  0.807692  0.791209  ...  1.026188e+09       0.026582   \n",
       "\n",
       "    VtyDayRet30d  VtyDayRet60d  gbtc_premium  target  sentiment  \\\n",
       "20      0.010596      0.015812      0.001486       0          1   \n",
       "21      0.010307      0.015705      0.001499       0          0   \n",
       "22      0.009457      0.015297      0.001489       0          0   \n",
       "23      0.009415      0.015302      0.001437       0          0   \n",
       "24      0.009506      0.015241      0.001524       0          0   \n",
       "25      0.008355      0.015135      0.001457       0          0   \n",
       "26      0.008493      0.015110      0.001473       0          0   \n",
       "27      0.008500      0.014974      0.001435       1          0   \n",
       "28      0.008504      0.014017      0.001452       1          0   \n",
       "29      0.008700      0.013882      0.001499       1          0   \n",
       "30      0.007525      0.013363      0.001523       1          1   \n",
       "31      0.008060      0.013549      0.001501       1          0   \n",
       "32      0.008222      0.012145      0.001556       1          1   \n",
       "33      0.008748      0.012438      0.001607       0          0   \n",
       "34      0.009004      0.012492      0.001748       0          0   \n",
       "35      0.009454      0.011590      0.001763       0          1   \n",
       "36      0.008973      0.011435      0.001735       0          1   \n",
       "37      0.013459      0.013360      0.001779       0          0   \n",
       "38      0.013108      0.013441      0.001703       0          0   \n",
       "39      0.013096      0.013474      0.001731       0          0   \n",
       "40      0.014355      0.013548      0.001848       0          0   \n",
       "41      0.014547      0.013146      0.001824       0          0   \n",
       "42      0.014640      0.012672      0.001845       0          0   \n",
       "43      0.014611      0.012539      0.001809       0          0   \n",
       "44      0.015292      0.012659      0.001791       0          0   \n",
       "45      0.015181      0.012608      0.001808       0          0   \n",
       "46      0.016139      0.013121      0.001791       0          0   \n",
       "47      0.016155      0.012767      0.001784       0          0   \n",
       "48      0.016096      0.012767      0.001752       0          0   \n",
       "49      0.016025      0.012745      0.001738       0          0   \n",
       "\n",
       "    mean_sentiment  btc_reference  search_idx  \n",
       "20        0.583333              0        1775  \n",
       "21        0.269231              0        1832  \n",
       "22        0.342105              0        1837  \n",
       "23        0.285714              0        1839  \n",
       "24        0.304348              0        1800  \n",
       "25        0.407407              0        1840  \n",
       "26        0.241379              0        1832  \n",
       "27        0.400000              0        1742  \n",
       "28        0.250000              0        1732  \n",
       "29        0.440000              0        1065  \n",
       "30        0.518519              0         987  \n",
       "31        0.240000              0        1021  \n",
       "32        0.629630              0        1042  \n",
       "33        0.440000              0        1145  \n",
       "34        0.440000              0        1891  \n",
       "35        0.576923              0        1871  \n",
       "36        0.586207              0        1927  \n",
       "37        0.400000              0        1871  \n",
       "38        0.233333              0        2050  \n",
       "39        0.413793              0         606  \n",
       "40        0.461538              1        1467  \n",
       "41        0.379310              0        1008  \n",
       "42        0.206897              0         668  \n",
       "43        0.192308              1         697  \n",
       "44        0.363636              0        2046  \n",
       "45        0.481481              1        1846  \n",
       "46        0.269231              0        1843  \n",
       "47        0.333333              0        1749  \n",
       "48        0.346154              0        1700  \n",
       "49        0.294118              0        1924  \n",
       "\n",
       "[30 rows x 82 columns]"
      ]
     },
     "execution_count": 12,
     "metadata": {},
     "output_type": "execute_result"
    }
   ],
   "source": [
    "features.head(30)"
   ]
  },
  {
   "cell_type": "code",
   "execution_count": 12,
   "metadata": {},
   "outputs": [
    {
     "data": {
      "text/plain": [
       "0    636\n",
       "1    579\n",
       "Name: target, dtype: int64"
      ]
     },
     "execution_count": 12,
     "metadata": {},
     "output_type": "execute_result"
    }
   ],
   "source": [
    "features['target'].value_counts()"
   ]
  },
  {
   "cell_type": "markdown",
   "metadata": {},
   "source": [
    "# Random Forest"
   ]
  },
  {
   "cell_type": "code",
   "execution_count": 21,
   "metadata": {},
   "outputs": [],
   "source": [
    "from sklearn.ensemble import RandomForestClassifier\n",
    "from sklearn.metrics import roc_auc_score, r2_score\n",
    "from sklearn.model_selection import train_test_split\n",
    "from sklearn.metrics import accuracy_score,recall_score,confusion_matrix\n",
    "from sklearn.metrics import f1_score\n",
    "\n",
    "from sklearn.model_selection import RandomizedSearchCV\n",
    "\n",
    "from pprint import pprint"
   ]
  },
  {
   "cell_type": "code",
   "execution_count": 10,
   "metadata": {},
   "outputs": [],
   "source": [
    "rf = RandomForestClassifier()"
   ]
  },
  {
   "cell_type": "code",
   "execution_count": 48,
   "metadata": {},
   "outputs": [
    {
     "name": "stdout",
     "output_type": "stream",
     "text": [
      "{'bootstrap': True,\n",
      " 'ccp_alpha': 0.0,\n",
      " 'class_weight': None,\n",
      " 'criterion': 'gini',\n",
      " 'max_depth': None,\n",
      " 'max_features': 'auto',\n",
      " 'max_leaf_nodes': None,\n",
      " 'max_samples': None,\n",
      " 'min_impurity_decrease': 0.0,\n",
      " 'min_impurity_split': None,\n",
      " 'min_samples_leaf': 1,\n",
      " 'min_samples_split': 2,\n",
      " 'min_weight_fraction_leaf': 0.0,\n",
      " 'n_estimators': 100,\n",
      " 'n_jobs': None,\n",
      " 'oob_score': False,\n",
      " 'random_state': None,\n",
      " 'verbose': 0,\n",
      " 'warm_start': False}\n"
     ]
    }
   ],
   "source": [
    "pprint(rf.get_params())"
   ]
  },
  {
   "cell_type": "code",
   "execution_count": 12,
   "metadata": {},
   "outputs": [
    {
     "name": "stdout",
     "output_type": "stream",
     "text": [
      "{'bootstrap': [True, False],\n",
      " 'max_depth': [5, 10, 15, 20, 25, 30, 35, 40, 45, 50, 55, None],\n",
      " 'max_features': ['auto', 'sqrt'],\n",
      " 'min_samples_leaf': [1, 2, 4],\n",
      " 'min_samples_split': [2, 5, 10],\n",
      " 'n_estimators': [200, 400, 600, 800, 1000]}\n"
     ]
    }
   ],
   "source": [
    "# Number of trees in random forest\n",
    "n_estimators = [int(x) for x in np.linspace(start = 200, stop = 1000, num = 5)]\n",
    "# Number of features to consider at every split\n",
    "max_features = ['auto', 'sqrt']\n",
    "# Maximum number of levels in tree\n",
    "max_depth = [int(x) for x in np.linspace(5, 55, num = 11)]\n",
    "max_depth.append(None)\n",
    "min_samples_split = [2, 5, 10]\n",
    "min_samples_leaf = [1, 2, 4]\n",
    "bootstrap = [True, False]\n",
    "\n",
    "random_grid = {'n_estimators': n_estimators,\n",
    "               'max_features': max_features,\n",
    "               'max_depth': max_depth,\n",
    "               'min_samples_split': min_samples_split,\n",
    "               'min_samples_leaf': min_samples_leaf,\n",
    "               'bootstrap': bootstrap}\n",
    "pprint(random_grid)"
   ]
  },
  {
   "cell_type": "code",
   "execution_count": 49,
   "metadata": {},
   "outputs": [],
   "source": [
    "cols = ['adx',  'cmo', 'roc',  'AdrActCnt', 'BlkSizeByte', 'CapMVRVCur', \n",
    "          'FeeTotNtv', 'ROI30d', 'TxCnt', 'gvolume', #'gclose_shifted', \n",
    "          'TxTfrCnt', 'TxTfrValAdjNtv', 'TxTfrValUSD', 'VtyDayRet30d']"
   ]
  },
  {
   "cell_type": "code",
   "execution_count": 50,
   "metadata": {},
   "outputs": [],
   "source": [
    "X_train, X_test, y_train, y_test = train_test_split(features[cols], features['target'], test_size=0.2, shuffle=False)"
   ]
  },
  {
   "cell_type": "code",
   "execution_count": 51,
   "metadata": {},
   "outputs": [
    {
     "name": "stdout",
     "output_type": "stream",
     "text": [
      "Fitting 4 folds for each of 100 candidates, totalling 400 fits\n"
     ]
    },
    {
     "name": "stderr",
     "output_type": "stream",
     "text": [
      "[Parallel(n_jobs=-1)]: Using backend LokyBackend with 8 concurrent workers.\n",
      "[Parallel(n_jobs=-1)]: Done  25 tasks      | elapsed:    8.1s\n",
      "[Parallel(n_jobs=-1)]: Done 146 tasks      | elapsed:   27.5s\n",
      "[Parallel(n_jobs=-1)]: Done 349 tasks      | elapsed:  1.1min\n",
      "[Parallel(n_jobs=-1)]: Done 400 out of 400 | elapsed:  1.2min finished\n"
     ]
    },
    {
     "data": {
      "text/plain": [
       "RandomizedSearchCV(cv=4, estimator=RandomForestClassifier(), n_iter=100,\n",
       "                   n_jobs=-1,\n",
       "                   param_distributions={'bootstrap': [True, False],\n",
       "                                        'max_depth': [5, 10, 15, 20, 25, 30, 35,\n",
       "                                                      40, 45, 50, 55, None],\n",
       "                                        'max_features': ['auto', 'sqrt'],\n",
       "                                        'min_samples_leaf': [1, 2, 4],\n",
       "                                        'min_samples_split': [2, 5, 10],\n",
       "                                        'n_estimators': [200, 400, 600, 800,\n",
       "                                                         1000]},\n",
       "                   random_state=42, verbose=2)"
      ]
     },
     "execution_count": 51,
     "metadata": {},
     "output_type": "execute_result"
    }
   ],
   "source": [
    "rf_random = RandomizedSearchCV(estimator = rf, param_distributions = random_grid, n_iter = 100, cv = 4, \n",
    "                               verbose=2, random_state=42, n_jobs = -1)\n",
    "# Fit the random search model\n",
    "rf_random.fit(X_train, y_train)"
   ]
  },
  {
   "cell_type": "code",
   "execution_count": 52,
   "metadata": {},
   "outputs": [
    {
     "data": {
      "text/plain": [
       "{'n_estimators': 200,\n",
       " 'min_samples_split': 10,\n",
       " 'min_samples_leaf': 2,\n",
       " 'max_features': 'sqrt',\n",
       " 'max_depth': 5,\n",
       " 'bootstrap': True}"
      ]
     },
     "execution_count": 52,
     "metadata": {},
     "output_type": "execute_result"
    }
   ],
   "source": [
    "rf_random.best_params_"
   ]
  },
  {
   "cell_type": "code",
   "execution_count": 53,
   "metadata": {},
   "outputs": [],
   "source": [
    "best_rf = RandomForestClassifier(n_estimators=200, min_samples_split=10, min_samples_leaf=2,\n",
    "                                 max_features='sqrt', max_depth=5, bootstrap=True)"
   ]
  },
  {
   "cell_type": "markdown",
   "metadata": {},
   "source": [
    "#### Train Model"
   ]
  },
  {
   "cell_type": "code",
   "execution_count": 54,
   "metadata": {},
   "outputs": [
    {
     "data": {
      "text/plain": [
       "RandomForestClassifier(max_depth=5, max_features='sqrt', min_samples_leaf=2,\n",
       "                       min_samples_split=10, n_estimators=200)"
      ]
     },
     "execution_count": 54,
     "metadata": {},
     "output_type": "execute_result"
    }
   ],
   "source": [
    "best_rf.fit(X_train, y_train)"
   ]
  },
  {
   "cell_type": "code",
   "execution_count": 55,
   "metadata": {},
   "outputs": [
    {
     "data": {
      "text/plain": [
       "1    133\n",
       "0    113\n",
       "Name: target, dtype: int64"
      ]
     },
     "execution_count": 55,
     "metadata": {},
     "output_type": "execute_result"
    }
   ],
   "source": [
    "y_test.value_counts()"
   ]
  },
  {
   "cell_type": "code",
   "execution_count": 56,
   "metadata": {
    "scrolled": true
   },
   "outputs": [
    {
     "name": "stdout",
     "output_type": "stream",
     "text": [
      "0.6788617886178862\n"
     ]
    }
   ],
   "source": [
    "y_pred = best_rf.predict(X_test)\n",
    "print(accuracy_score(y_test,y_pred))"
   ]
  },
  {
   "cell_type": "code",
   "execution_count": 57,
   "metadata": {},
   "outputs": [
    {
     "name": "stdout",
     "output_type": "stream",
     "text": [
      "0.6657462239669971\n"
     ]
    }
   ],
   "source": [
    "print(roc_auc_score(y_test, y_pred))"
   ]
  },
  {
   "cell_type": "code",
   "execution_count": 58,
   "metadata": {},
   "outputs": [
    {
     "data": {
      "text/plain": [
       "count    246.000000\n",
       "mean       0.540650\n",
       "std        0.499361\n",
       "min        0.000000\n",
       "25%        0.000000\n",
       "50%        1.000000\n",
       "75%        1.000000\n",
       "max        1.000000\n",
       "Name: target, dtype: float64"
      ]
     },
     "execution_count": 58,
     "metadata": {},
     "output_type": "execute_result"
    }
   ],
   "source": [
    "y_test.describe()"
   ]
  },
  {
   "cell_type": "code",
   "execution_count": 59,
   "metadata": {},
   "outputs": [
    {
     "name": "stdout",
     "output_type": "stream",
     "text": [
      "[[ 57  56]\n",
      " [ 23 110]]\n"
     ]
    }
   ],
   "source": [
    "print(confusion_matrix(y_test,y_pred))"
   ]
  },
  {
   "cell_type": "code",
   "execution_count": 60,
   "metadata": {
    "scrolled": true
   },
   "outputs": [
    {
     "data": {
      "text/plain": [
       "0.7357859531772575"
      ]
     },
     "execution_count": 60,
     "metadata": {},
     "output_type": "execute_result"
    }
   ],
   "source": [
    "f1_score(y_test, y_pred)"
   ]
  },
  {
   "cell_type": "markdown",
   "metadata": {},
   "source": [
    "#### Cross-Validation"
   ]
  },
  {
   "cell_type": "code",
   "execution_count": 61,
   "metadata": {},
   "outputs": [],
   "source": [
    "from sklearn.model_selection import cross_val_score, cross_val_predict"
   ]
  },
  {
   "cell_type": "code",
   "execution_count": 62,
   "metadata": {},
   "outputs": [
    {
     "name": "stdout",
     "output_type": "stream",
     "text": [
      "[0.5599022  0.60635697 0.61369193]\n"
     ]
    }
   ],
   "source": [
    "scores = cross_val_score(best_rf, features[cols], features['target'], cv=3)\n",
    "print(scores)"
   ]
  },
  {
   "cell_type": "code",
   "execution_count": 63,
   "metadata": {},
   "outputs": [
    {
     "name": "stdout",
     "output_type": "stream",
     "text": [
      "Cross-Predicted Accuracy: 0.5959392081055859\n"
     ]
    }
   ],
   "source": [
    "# Make cross validated predictions\n",
    "predictions = cross_val_predict(best_rf, features[cols], features['target'], cv=3)\n",
    "accuracy = roc_auc_score(features['target'], predictions)\n",
    "print('Cross-Predicted Accuracy:', accuracy)"
   ]
  },
  {
   "cell_type": "markdown",
   "metadata": {},
   "source": [
    "# Research"
   ]
  },
  {
   "cell_type": "code",
   "execution_count": 32,
   "metadata": {},
   "outputs": [],
   "source": [
    "from sklearn.ensemble import RandomForestClassifier\n",
    "from sklearn.metrics import roc_auc_score, r2_score\n",
    "from sklearn.model_selection import train_test_split\n",
    "from sklearn.metrics import accuracy_score,recall_score,confusion_matrix\n",
    "from sklearn.metrics import f1_score\n",
    "\n",
    "from sklearn.model_selection import RandomizedSearchCV\n",
    "\n",
    "from pprint import pprint"
   ]
  },
  {
   "cell_type": "code",
   "execution_count": 33,
   "metadata": {},
   "outputs": [],
   "source": [
    "rf = RandomForestClassifier()"
   ]
  },
  {
   "cell_type": "code",
   "execution_count": 34,
   "metadata": {},
   "outputs": [
    {
     "name": "stdout",
     "output_type": "stream",
     "text": [
      "{'bootstrap': True,\n",
      " 'ccp_alpha': 0.0,\n",
      " 'class_weight': None,\n",
      " 'criterion': 'gini',\n",
      " 'max_depth': None,\n",
      " 'max_features': 'auto',\n",
      " 'max_leaf_nodes': None,\n",
      " 'max_samples': None,\n",
      " 'min_impurity_decrease': 0.0,\n",
      " 'min_impurity_split': None,\n",
      " 'min_samples_leaf': 1,\n",
      " 'min_samples_split': 2,\n",
      " 'min_weight_fraction_leaf': 0.0,\n",
      " 'n_estimators': 100,\n",
      " 'n_jobs': None,\n",
      " 'oob_score': False,\n",
      " 'random_state': None,\n",
      " 'verbose': 0,\n",
      " 'warm_start': False}\n"
     ]
    }
   ],
   "source": [
    "pprint(rf.get_params())"
   ]
  },
  {
   "cell_type": "code",
   "execution_count": 35,
   "metadata": {},
   "outputs": [
    {
     "name": "stdout",
     "output_type": "stream",
     "text": [
      "{'bootstrap': [True, False],\n",
      " 'max_depth': [5, 10, 15, 20, 25, 30, 35, 40, 45, 50, 55, None],\n",
      " 'max_features': ['auto', 'sqrt'],\n",
      " 'min_samples_leaf': [1, 2, 4],\n",
      " 'min_samples_split': [2, 5, 10],\n",
      " 'n_estimators': [200, 400, 600, 800, 1000]}\n"
     ]
    }
   ],
   "source": [
    "# Number of trees in random forest\n",
    "n_estimators = [int(x) for x in np.linspace(start = 200, stop = 1000, num = 5)]\n",
    "# Number of features to consider at every split\n",
    "max_features = ['auto', 'sqrt']\n",
    "# Maximum number of levels in tree\n",
    "max_depth = [int(x) for x in np.linspace(5, 55, num = 11)]\n",
    "max_depth.append(None)\n",
    "min_samples_split = [2, 5, 10]\n",
    "min_samples_leaf = [1, 2, 4]\n",
    "bootstrap = [True, False]\n",
    "\n",
    "random_grid = {'n_estimators': n_estimators,\n",
    "               'max_features': max_features,\n",
    "               'max_depth': max_depth,\n",
    "               'min_samples_split': min_samples_split,\n",
    "               'min_samples_leaf': min_samples_leaf,\n",
    "               'bootstrap': bootstrap}\n",
    "pprint(random_grid)"
   ]
  },
  {
   "cell_type": "code",
   "execution_count": 36,
   "metadata": {},
   "outputs": [],
   "source": [
    "cols = ['adx',  'cmo', 'roc',  'AdrActCnt', 'BlkSizeByte', 'CapMVRVCur', \n",
    "          'FeeTotNtv', 'ROI30d', 'TxCnt', 'gvolume',  'mean_sentiment', 'btc_reference',\n",
    "          'TxTfrCnt', 'TxTfrValAdjNtv', 'TxTfrValUSD', 'VtyDayRet30d']"
   ]
  },
  {
   "cell_type": "code",
   "execution_count": 37,
   "metadata": {},
   "outputs": [],
   "source": [
    "X_train, X_test, y_train, y_test = train_test_split(features[cols], features['target'], test_size=0.2, shuffle=False)"
   ]
  },
  {
   "cell_type": "code",
   "execution_count": 38,
   "metadata": {},
   "outputs": [
    {
     "name": "stdout",
     "output_type": "stream",
     "text": [
      "Fitting 3 folds for each of 100 candidates, totalling 300 fits\n"
     ]
    },
    {
     "name": "stderr",
     "output_type": "stream",
     "text": [
      "[Parallel(n_jobs=-1)]: Using backend LokyBackend with 8 concurrent workers.\n",
      "[Parallel(n_jobs=-1)]: Done  25 tasks      | elapsed:    5.7s\n",
      "[Parallel(n_jobs=-1)]: Done 146 tasks      | elapsed:   26.1s\n",
      "[Parallel(n_jobs=-1)]: Done 300 out of 300 | elapsed:   54.7s finished\n"
     ]
    },
    {
     "data": {
      "text/plain": [
       "RandomizedSearchCV(cv=3, estimator=RandomForestClassifier(), n_iter=100,\n",
       "                   n_jobs=-1,\n",
       "                   param_distributions={'bootstrap': [True, False],\n",
       "                                        'max_depth': [5, 10, 15, 20, 25, 30, 35,\n",
       "                                                      40, 45, 50, 55, None],\n",
       "                                        'max_features': ['auto', 'sqrt'],\n",
       "                                        'min_samples_leaf': [1, 2, 4],\n",
       "                                        'min_samples_split': [2, 5, 10],\n",
       "                                        'n_estimators': [200, 400, 600, 800,\n",
       "                                                         1000]},\n",
       "                   random_state=42, verbose=2)"
      ]
     },
     "execution_count": 38,
     "metadata": {},
     "output_type": "execute_result"
    }
   ],
   "source": [
    "rf_random = RandomizedSearchCV(estimator = rf, param_distributions = random_grid, n_iter = 100, cv = 3, \n",
    "                               verbose=2, random_state=42, n_jobs = -1)\n",
    "# Fit the random search model\n",
    "rf_random.fit(X_train, y_train)"
   ]
  },
  {
   "cell_type": "code",
   "execution_count": 39,
   "metadata": {},
   "outputs": [
    {
     "data": {
      "text/plain": [
       "{'n_estimators': 800,\n",
       " 'min_samples_split': 2,\n",
       " 'min_samples_leaf': 4,\n",
       " 'max_features': 'auto',\n",
       " 'max_depth': 5,\n",
       " 'bootstrap': False}"
      ]
     },
     "execution_count": 39,
     "metadata": {},
     "output_type": "execute_result"
    }
   ],
   "source": [
    "rf_random.best_params_"
   ]
  },
  {
   "cell_type": "code",
   "execution_count": 40,
   "metadata": {},
   "outputs": [],
   "source": [
    "best_rf = RandomForestClassifier(n_estimators=800, min_samples_split=2, min_samples_leaf=4,\n",
    "                                 max_features='auto', max_depth=5, bootstrap=True)"
   ]
  },
  {
   "cell_type": "markdown",
   "metadata": {},
   "source": [
    "#### Train Model"
   ]
  },
  {
   "cell_type": "code",
   "execution_count": 41,
   "metadata": {},
   "outputs": [
    {
     "data": {
      "text/plain": [
       "RandomForestClassifier(max_depth=5, min_samples_leaf=4, n_estimators=800)"
      ]
     },
     "execution_count": 41,
     "metadata": {},
     "output_type": "execute_result"
    }
   ],
   "source": [
    "best_rf.fit(X_train, y_train)"
   ]
  },
  {
   "cell_type": "code",
   "execution_count": 42,
   "metadata": {},
   "outputs": [
    {
     "data": {
      "text/plain": [
       "1    135\n",
       "0    108\n",
       "Name: target, dtype: int64"
      ]
     },
     "execution_count": 42,
     "metadata": {},
     "output_type": "execute_result"
    }
   ],
   "source": [
    "y_test.value_counts()"
   ]
  },
  {
   "cell_type": "code",
   "execution_count": 43,
   "metadata": {
    "scrolled": true
   },
   "outputs": [
    {
     "name": "stdout",
     "output_type": "stream",
     "text": [
      "0.6625514403292181\n"
     ]
    }
   ],
   "source": [
    "y_pred = best_rf.predict(X_test)\n",
    "print(accuracy_score(y_test,y_pred))"
   ]
  },
  {
   "cell_type": "code",
   "execution_count": 44,
   "metadata": {},
   "outputs": [
    {
     "name": "stdout",
     "output_type": "stream",
     "text": [
      "0.637962962962963\n"
     ]
    }
   ],
   "source": [
    "print(roc_auc_score(y_test, y_pred))"
   ]
  },
  {
   "cell_type": "code",
   "execution_count": 45,
   "metadata": {},
   "outputs": [
    {
     "data": {
      "text/plain": [
       "count    243.000000\n",
       "mean       0.555556\n",
       "std        0.497930\n",
       "min        0.000000\n",
       "25%        0.000000\n",
       "50%        1.000000\n",
       "75%        1.000000\n",
       "max        1.000000\n",
       "Name: target, dtype: float64"
      ]
     },
     "execution_count": 45,
     "metadata": {},
     "output_type": "execute_result"
    }
   ],
   "source": [
    "y_test.describe()"
   ]
  },
  {
   "cell_type": "code",
   "execution_count": 46,
   "metadata": {},
   "outputs": [
    {
     "name": "stdout",
     "output_type": "stream",
     "text": [
      "[[ 45  63]\n",
      " [ 19 116]]\n"
     ]
    }
   ],
   "source": [
    "print(confusion_matrix(y_test,y_pred))"
   ]
  },
  {
   "cell_type": "code",
   "execution_count": 47,
   "metadata": {
    "scrolled": true
   },
   "outputs": [
    {
     "data": {
      "text/plain": [
       "0.7388535031847134"
      ]
     },
     "execution_count": 47,
     "metadata": {},
     "output_type": "execute_result"
    }
   ],
   "source": [
    "f1_score(y_test, y_pred)"
   ]
  },
  {
   "cell_type": "markdown",
   "metadata": {},
   "source": [
    "#### Cross-Validation"
   ]
  },
  {
   "cell_type": "code",
   "execution_count": 48,
   "metadata": {},
   "outputs": [],
   "source": [
    "from sklearn.model_selection import cross_val_score, cross_val_predict"
   ]
  },
  {
   "cell_type": "code",
   "execution_count": 49,
   "metadata": {},
   "outputs": [
    {
     "name": "stdout",
     "output_type": "stream",
     "text": [
      "[0.53580247 0.61481481 0.58024691]\n"
     ]
    }
   ],
   "source": [
    "scores = cross_val_score(best_rf, features[cols], features['target'], cv=3)\n",
    "print(scores)"
   ]
  },
  {
   "cell_type": "code",
   "execution_count": 50,
   "metadata": {},
   "outputs": [
    {
     "name": "stdout",
     "output_type": "stream",
     "text": [
      "Cross-Predicted Accuracy: 0.5850604490500864\n"
     ]
    }
   ],
   "source": [
    "# Make cross validated predictions\n",
    "predictions = cross_val_predict(best_rf, features[cols], features['target'], cv=3)\n",
    "accuracy = roc_auc_score(features['target'], predictions)\n",
    "print('Cross-Predicted Accuracy:', accuracy)"
   ]
  },
  {
   "cell_type": "code",
   "execution_count": null,
   "metadata": {},
   "outputs": [],
   "source": []
  }
 ],
 "metadata": {
  "kernelspec": {
   "display_name": "Python 3",
   "language": "python",
   "name": "python3"
  },
  "language_info": {
   "codemirror_mode": {
    "name": "ipython",
    "version": 3
   },
   "file_extension": ".py",
   "mimetype": "text/x-python",
   "name": "python",
   "nbconvert_exporter": "python",
   "pygments_lexer": "ipython3",
   "version": "3.8.5"
  }
 },
 "nbformat": 4,
 "nbformat_minor": 4
}
